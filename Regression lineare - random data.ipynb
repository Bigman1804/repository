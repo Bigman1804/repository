{
 "cells": [
  {
   "cell_type": "markdown",
   "id": "bea9197a-ff60-4a88-a17b-e56a50503d8e",
   "metadata": {},
   "source": [
    "# LINEAR REGRESSION"
   ]
  },
  {
   "cell_type": "markdown",
   "id": "624683d7-137c-4708-852c-9ea0f29a7ef1",
   "metadata": {},
   "source": [
    "**Libraries**"
   ]
  },
  {
   "cell_type": "code",
   "execution_count": 7,
   "id": "29152671-9abe-4a92-944e-3feef0e62652",
   "metadata": {},
   "outputs": [],
   "source": [
    "import numpy as np\n",
    "from sklearn.datasets import make_regression\n",
    "import matplotlib.pyplot as plt\n",
    "import pandas as pd"
   ]
  },
  {
   "cell_type": "markdown",
   "id": "40e9d764-1ae3-4dea-b638-67a3ed53a83e",
   "metadata": {},
   "source": [
    "## 1. Dataset"
   ]
  },
  {
   "cell_type": "markdown",
   "id": "6b8977a0-2ac3-444d-9146-ae2e77619b12",
   "metadata": {},
   "source": [
    "Comme on n'a pas un dataset (x, y) sur lequel travailler, on va créér un en utilisant la fonction random de Numpy.\n",
    "On le va définir le nombre de datapoints m = 100 et le nombre de features est n = 1 (c'est bien pour cela qu'on va utiliser le modele de linéare"
   ]
  },
  {
   "cell_type": "code",
   "execution_count": 8,
   "id": "e3225963-2f81-45df-99a6-b88bc85e1657",
   "metadata": {},
   "outputs": [
    {
     "name": "stdout",
     "output_type": "stream",
     "text": [
      "<class 'numpy.ndarray'>\n",
      "<class 'numpy.ndarray'>\n"
     ]
    },
    {
     "data": {
      "image/png": "[encoded data removed]",
      "text/plain": [
       "<Figure size 640x480 with 1 Axes>"
      ]
     },
     "metadata": {},
     "output_type": "display_data"
    }
   ],
   "source": [
    "np.random.seed(0) # pour toujours reproduire le meme dataset\n",
    "x, y = make_regression(n_samples=100, n_features=1, noise=10)\n",
    "plt.scatter(x, y) # afficher les résultats. X en abscisse et y en ordonnée\n",
    "print(type(x))\n",
    "print(type(y))"
   ]
  },
  {
   "cell_type": "markdown",
   "id": "3be01a2e-763b-4f4a-aa54-3081c6f90ca0",
   "metadata": {},
   "source": [
    "IMPORTANT\n",
    "Vérifier les dimensions de x et y. On remarque que y n'a pas les dimesions (100,1). On corrige le probleme avec np.reshape"
   ]
  },
  {
   "cell_type": "code",
   "execution_count": 46,
   "id": "b8895848-6295-4f7a-b04b-5c3423c7d148",
   "metadata": {},
   "outputs": [
    {
     "name": "stdout",
     "output_type": "stream",
     "text": [
      "(100, 1)\n"
     ]
    }
   ],
   "source": [
    "x_shape = x.shape\n",
    "print(x_shape)"
   ]
  },
  {
   "cell_type": "code",
   "execution_count": 47,
   "id": "bde432b4-0b71-45b7-b1e9-14837d03d02f",
   "metadata": {},
   "outputs": [
    {
     "name": "stdout",
     "output_type": "stream",
     "text": [
      "(100,)\n"
     ]
    }
   ],
   "source": [
    "y_shape = y.shape\n",
    "print(y_shape)"
   ]
  },
  {
   "cell_type": "code",
   "execution_count": 48,
   "id": "516a72e0-318d-48c5-9792-3488550f8f51",
   "metadata": {},
   "outputs": [
    {
     "data": {
      "text/plain": [
       "(100, 1)"
      ]
     },
     "execution_count": 48,
     "metadata": {},
     "output_type": "execute_result"
    }
   ],
   "source": [
    "y = y.reshape(100,1)\n",
    "y.shape"
   ]
  },
  {
   "cell_type": "markdown",
   "id": "a248e2f0-1153-4bab-9899-97c64e85de9c",
   "metadata": {},
   "source": [
    "Création de la matrice X qui contient la colonne de Biais. Pour ca, on colle l'un contre l'autre le vecteur x et un vecteur 1 (avec np.ones) de dimension égale a celle de x"
   ]
  },
  {
   "cell_type": "code",
   "execution_count": 49,
   "id": "515894e2-bccc-4eac-bf66-a68a2d9e279a",
   "metadata": {},
   "outputs": [
    {
     "data": {
      "text/plain": [
       "(100, 1)"
      ]
     },
     "execution_count": 49,
     "metadata": {},
     "output_type": "execute_result"
    }
   ],
   "source": [
    "x.shape"
   ]
  },
  {
   "cell_type": "code",
   "execution_count": 50,
   "id": "b0f092aa-11db-4693-b066-34a4d189d567",
   "metadata": {},
   "outputs": [
    {
     "data": {
      "text/plain": [
       "(100, 1)"
      ]
     },
     "execution_count": 50,
     "metadata": {},
     "output_type": "execute_result"
    }
   ],
   "source": [
    "x_biais = np.ones(x.shape)\n",
    "x_biais.shape"
   ]
  },
  {
   "cell_type": "code",
   "execution_count": 51,
   "id": "37e89d50-699b-4993-b3fb-7b0ec68dc9f4",
   "metadata": {},
   "outputs": [
    {
     "data": {
      "text/plain": [
       "(100, 2)"
      ]
     },
     "execution_count": 51,
     "metadata": {},
     "output_type": "execute_result"
    }
   ],
   "source": [
    "X = np.hstack((x,x_biais))\n",
    "X.shape"
   ]
  },
  {
   "cell_type": "markdown",
   "id": "b1cb07ef-16dc-4786-9749-85624346260b",
   "metadata": {},
   "source": [
    "Finalement, création d'un vecteur parametre $ \\theta $ \n",
    ", initialisé avec des coefficients aléatoires. Ce vecteur est de dimension (2, 1). Si on désire toujours reproduire le meme vecteur   $ \\theta $ \n",
    ", on utilise comme avant np.random.seed(0)."
   ]
  },
  {
   "cell_type": "code",
   "execution_count": 77,
   "id": "d3fa0d8d-601e-4cd1-abcb-65fc39746c29",
   "metadata": {},
   "outputs": [
    {
     "data": {
      "text/plain": [
       "array([[1.76405235],\n",
       "       [0.40015721]])"
      ]
     },
     "execution_count": 77,
     "metadata": {},
     "output_type": "execute_result"
    }
   ],
   "source": [
    "np.random.seed(0) # pour toujours reproduire les memes coeff\n",
    "theta = np.random.randn(2, 1)\n",
    "theta"
   ]
  },
  {
   "cell_type": "markdown",
   "id": "00bba26f-86ff-411e-a1de-7ea6627d5481",
   "metadata": {},
   "source": [
    "## 2. Model"
   ]
  },
  {
   "cell_type": "markdown",
   "id": "5fa175fb-6fc8-49f6-b519-bea62d5f0afb",
   "metadata": {},
   "source": [
    "On implémente un modele $ F = X.\\theta $, puis on teste le modele pour voir s'il n'y a pas de bug (BONNE PRATIQUE OBLIGE). En plus, cela permet de voir a quoi ressemble le modele initial, défini par la valeur de $ \\theta $"
   ]
  },
  {
   "cell_type": "code",
   "execution_count": 79,
   "id": "ce874387-0aa8-426c-b4a4-3afd0c3f5e1f",
   "metadata": {},
   "outputs": [
    {
     "name": "stdout",
     "output_type": "stream",
     "text": [
      "(100, 1)\n"
     ]
    },
    {
     "data": {
      "text/plain": [
       "array([[-0.23411339],\n",
       "       [ 2.12299959],\n",
       "       [ 1.10990892],\n",
       "       [-1.0342754 ],\n",
       "       [-1.16594332],\n",
       "       [ 1.18315519],\n",
       "       [-1.32381213],\n",
       "       [ 1.15575705],\n",
       "       [ 0.76756517],\n",
       "       [-0.14943777],\n",
       "       [-0.50092979],\n",
       "       [ 0.62403678],\n",
       "       [-2.30985707],\n",
       "       [-0.30860539],\n",
       "       [ 1.55317463],\n",
       "       [ 2.47958608],\n",
       "       [ 0.08276038],\n",
       "       [ 3.55052624],\n",
       "       [ 2.9655718 ],\n",
       "       [-0.80788364],\n",
       "       [ 2.12670225],\n",
       "       [ 3.74460496],\n",
       "       [-0.37262879],\n",
       "       [ 0.95242502],\n",
       "       [ 1.74266759],\n",
       "       [ 1.77169089],\n",
       "       [ 3.84142712],\n",
       "       [ 0.98877619],\n",
       "       [-0.21357803],\n",
       "       [ 3.10405998],\n",
       "       [-1.17949268],\n",
       "       [-0.6209639 ],\n",
       "       [-1.44954511],\n",
       "       [ 1.06725569],\n",
       "       [ 0.41867979],\n",
       "       [ 1.21652933],\n",
       "       [ 0.65425761],\n",
       "       [-0.31106803],\n",
       "       [ 0.49179161],\n",
       "       [-1.80983939],\n",
       "       [ 2.26026525],\n",
       "       [ 1.10605547],\n",
       "       [-2.60979272],\n",
       "       [ 4.35321011],\n",
       "       [ 0.71314621],\n",
       "       [ 0.03824729],\n",
       "       [ 2.57045437],\n",
       "       [-1.10651238],\n",
       "       [ 3.51203789],\n",
       "       [ 1.12447446],\n",
       "       [-1.2003646 ],\n",
       "       [-2.10482877],\n",
       "       [ 1.22161013],\n",
       "       [ 1.98926229],\n",
       "       [ 2.41011966],\n",
       "       [ 1.10928749],\n",
       "       [ 1.08267347],\n",
       "       [-2.64509567],\n",
       "       [ 2.99218299],\n",
       "       [ 0.0699551 ],\n",
       "       [-1.13597455],\n",
       "       [ 0.93373347],\n",
       "       [ 2.5212182 ],\n",
       "       [-3.09407145],\n",
       "       [-4.10345047],\n",
       "       [-2.16541997],\n",
       "       [ 0.35044228],\n",
       "       [ 0.67349258],\n",
       "       [ 2.5566143 ],\n",
       "       [ 3.69462726],\n",
       "       [ 4.40412318],\n",
       "       [-0.90906074],\n",
       "       [ 0.51749707],\n",
       "       [ 3.0357909 ],\n",
       "       [-0.78609822],\n",
       "       [-2.47559801],\n",
       "       [ 0.62768981],\n",
       "       [ 2.07616291],\n",
       "       [ 3.02551198],\n",
       "       [ 0.49923581],\n",
       "       [ 1.92506791],\n",
       "       [ 1.64658926],\n",
       "       [ 0.13315517],\n",
       "       [-1.48870647],\n",
       "       [ 0.21807375],\n",
       "       [-0.13312067],\n",
       "       [-0.28310757],\n",
       "       [ 1.68631112],\n",
       "       [ 0.61479831],\n",
       "       [-0.49889592],\n",
       "       [-1.77814018],\n",
       "       [ 0.02487222],\n",
       "       [-0.71882017],\n",
       "       [ 0.67596497],\n",
       "       [ 0.48087763],\n",
       "       [-1.6552281 ],\n",
       "       [-0.2397372 ],\n",
       "       [ 1.02880619],\n",
       "       [-2.44684308],\n",
       "       [-1.68253977]])"
      ]
     },
     "execution_count": 79,
     "metadata": {},
     "output_type": "execute_result"
    }
   ],
   "source": [
    "def model(matrice_X, matrice_theta):\n",
    "    F_matrice = matrice_X.dot(matrice_theta)\n",
    "    return F_matrice\n",
    "print(model(X, theta).shape)\n",
    "model(X, theta)"
   ]
  },
  {
   "cell_type": "code",
   "execution_count": 78,
   "id": "24e8d173-ce92-49c7-9ad4-df091d250d37",
   "metadata": {},
   "outputs": [
    {
     "data": {
      "text/plain": [
       "[<matplotlib.lines.Line2D at 0x1da6fd57850>,\n",
       " <matplotlib.lines.Line2D at 0x1da6fd576d0>]"
      ]
     },
     "execution_count": 78,
     "metadata": {},
     "output_type": "execute_result"
    },
    {
     "data": {
      "image/png": "[encoded data removed]",
      "text/plain": [
       "<Figure size 640x480 with 1 Axes>"
      ]
     },
     "metadata": {},
     "output_type": "display_data"
    }
   ],
   "source": [
    "plt.scatter(x,y)\n",
    "plt.plot(X, model(X, theta), \"r\")"
   ]
  },
  {
   "cell_type": "code",
   "execution_count": null,
   "id": "4ba35fcf-74cd-481d-875a-6f86481859e5",
   "metadata": {},
   "outputs": [],
   "source": []
  },
  {
   "cell_type": "markdown",
   "id": "e060a4fe-d500-4825-9df9-a8d805cd4679",
   "metadata": {},
   "source": [
    "## 3. Cost fonction: Erreur Quadratique moyenne"
   ]
  },
  {
   "cell_type": "markdown",
   "id": "a5598e91-f975-4725-9c5d-c41e21bc4cd3",
   "metadata": {},
   "source": [
    "On mesure les erreurs du modele sur le Dataset X, y en implémenterl'erreur quadratique moyenne, Mean Squared Error (MSE) en anglais\n",
    "\n",
    "$J( \\theta) = \\frac{1}{2m}  \\sum (X. \\theta - y ) ^ 2 $"
   ]
  },
  {
   "cell_type": "markdown",
   "id": "c3f63a83-bd39-4756-90a7-e64a9a2e0aef",
   "metadata": {},
   "source": [
    "Ensuite, on teste notre fonction, pour voir s'il n'y a pas de bug"
   ]
  },
  {
   "cell_type": "code",
   "execution_count": 82,
   "id": "bb2f3707-728c-45dd-b86e-6ada7d7f50ea",
   "metadata": {},
   "outputs": [],
   "source": [
    "def cout(X, y, theta):\n",
    "    m = len(y)\n",
    "    J = 1 /(2*m) * np.sum((model(X, theta) - y)**2)\n",
    "    return J  "
   ]
  },
  {
   "cell_type": "code",
   "execution_count": 83,
   "id": "9a8e1d91-7f39-4e85-acb1-a5d5c07d1a3a",
   "metadata": {},
   "outputs": [
    {
     "data": {
      "text/plain": [
       "905.6306841935502"
      ]
     },
     "execution_count": 83,
     "metadata": {},
     "output_type": "execute_result"
    }
   ],
   "source": [
    "cout(X, y, theta)"
   ]
  },
  {
   "cell_type": "markdown",
   "id": "855fa429-96ae-4f80-84ad-50d509c4bb70",
   "metadata": {},
   "source": [
    "## 4. Gradients et Descente de Gradient"
   ]
  },
  {
   "cell_type": "markdown",
   "id": "ac5dba13-17ed-46ae-bcb6-413eb7f951c3",
   "metadata": {},
   "source": [
    "On implémente la formule du gradient pour la **MSE**"
   ]
  },
  {
   "cell_type": "markdown",
   "id": "f8bb8f27-7d94-4b47-af47-1912a33eb51c",
   "metadata": {},
   "source": [
    "$ \\frac{\\partial J(\\theta) }{\\partial \\theta} = \\frac{1}{m} X^T.(X.\\theta - y) $"
   ]
  },
  {
   "cell_type": "code",
   "execution_count": 85,
   "id": "4d31e35e-93e9-4f1c-9b31-96cf81028a7d",
   "metadata": {},
   "outputs": [],
   "source": [
    "def grad(matrix_x, matrix_y, matrix_theta):\n",
    "    m = len(x)\n",
    "    X_transp = matrix_x.T\n",
    "    delta = 1/m * (X_transp).dot(model(matrix_x, matrix_theta) - y)\n",
    "    return delta"
   ]
  },
  {
   "cell_type": "markdown",
   "id": "85af13d4-6880-4f09-beaf-3763561a9afb",
   "metadata": {},
   "source": [
    "Ensuite on utilise cette fonction dans la descente de gradient:"
   ]
  },
  {
   "cell_type": "markdown",
   "id": "e423d3de-eebe-46f4-81d3-089fa6e21067",
   "metadata": {},
   "source": [
    "$ \\theta = \\theta - \\alpha \\frac{\\partial J(\\theta) }{\\partial \\theta} $"
   ]
  },
  {
   "cell_type": "code",
   "execution_count": 91,
   "id": "18cea78e-35df-491a-b627-b2a8a9e9a5df",
   "metadata": {},
   "outputs": [],
   "source": [
    "def gradient_descent(n_iterations, learning_rate, X, y, theta):\n",
    "    \n",
    "    cost_history = np.zeros(n_iterations) #tableau intialisé avec des valeur zero pour ensuite les completer et avoir un suivi de l'évolution du cout du modele\n",
    "    \n",
    "    for i in range(0,n_iterations):\n",
    "        \n",
    "        theta = theta - learning_rate * grad(X, y, theta)\n",
    "        cost_history[i] = cout(X, y, theta)\n",
    "        \n",
    "    return theta, cost_history"
   ]
  },
  {
   "cell_type": "markdown",
   "id": "433d5da1-0c77-4efb-b285-4f4972c520a3",
   "metadata": {},
   "source": [
    "## 5. Phase d'entrainement"
   ]
  },
  {
   "cell_type": "markdown",
   "id": "429d5baf-5bb2-420f-8ac9-67b48aa4b6c4",
   "metadata": {},
   "source": [
    "On définit un nombre d'itérations, ainsi qu'un pas d'apprentissage $ \\alpha $\n",
    ", et c'est partit !\n",
    "\n",
    "Une fois le modele entrainé, on observe les resultats par rapport a notre Dataset"
   ]
  },
  {
   "cell_type": "code",
   "execution_count": 92,
   "id": "667828ad-50ba-409f-99a2-b6fc8071e315",
   "metadata": {},
   "outputs": [],
   "source": [
    "n_iterations = 1000\n",
    "learning_rate = 0.01\n",
    "\n",
    "\n",
    "theta_final, cost_history = gradient_descent(n_iterations, learning_rate, X, y, theta)"
   ]
  },
  {
   "cell_type": "code",
   "execution_count": 93,
   "id": "3a8d3760-cb28-4f8b-b1a1-13926b1bd029",
   "metadata": {},
   "outputs": [
    {
     "data": {
      "text/plain": [
       "array([[42.61765864],\n",
       "       [-0.81309274]])"
      ]
     },
     "execution_count": 93,
     "metadata": {},
     "output_type": "execute_result"
    }
   ],
   "source": [
    "theta_final"
   ]
  },
  {
   "cell_type": "code",
   "execution_count": 94,
   "id": "798bc7ab-8dc2-4450-9ebb-918b2755d86a",
   "metadata": {},
   "outputs": [
    {
     "data": {
      "text/plain": [
       "[<matplotlib.lines.Line2D at 0x1da7149a380>]"
      ]
     },
     "execution_count": 94,
     "metadata": {},
     "output_type": "execute_result"
    },
    {
     "data": {
      "image/png": "[encoded data removed]",
      "text/plain": [
       "<Figure size 640x480 with 1 Axes>"
      ]
     },
     "metadata": {},
     "output_type": "display_data"
    }
   ],
   "source": [
    "# création d'un vecteur prédictions qui contient les prédictions de notre modele final\n",
    "predictions = model(X, theta_final)\n",
    "\n",
    "# Affiche les résultats de prédictions (en rouge) par rapport a notre Dataset (en bleu)\n",
    "plt.scatter(x, y)\n",
    "plt.plot(x, predictions, c='green')"
   ]
  },
  {
   "cell_type": "markdown",
   "id": "48bdf115-0438-4da7-9de4-d1bfd0504e93",
   "metadata": {},
   "source": [
    "## 6. Courbes d'apprentissage"
   ]
  },
  {
   "cell_type": "markdown",
   "id": "389f020d-aaf3-4dfe-8deb-7a462aecef2e",
   "metadata": {},
   "source": [
    "Pour vérifier si notre algorithme de Descente de gradient a bien fonctionné, on observe l'évolution de la fonction cout a travers les itérations. On est sensé obtenir une courbe qui diminue a chaque itération jusqu'a stagner a un niveau minimal (proche de zéro). Si la courbe ne suit pas ce motif, alors le pas learning_rate est peut-etre trop élevé, il faut prendre un pas plus faible."
   ]
  },
  {
   "cell_type": "code",
   "execution_count": 97,
   "id": "d7145280-097b-4ef8-a978-f8694ab073aa",
   "metadata": {},
   "outputs": [
    {
     "data": {
      "text/plain": [
       "[<matplotlib.lines.Line2D at 0x1da714bace0>]"
      ]
     },
     "execution_count": 97,
     "metadata": {},
     "output_type": "execute_result"
    },
    {
     "data": {
      "image/png": "[encoded data removed]",
      "text/plain": [
       "<Figure size 640x480 with 1 Axes>"
      ]
     },
     "metadata": {},
     "output_type": "display_data"
    }
   ],
   "source": [
    "plt.plot(cost_history)"
   ]
  },
  {
   "cell_type": "markdown",
   "id": "3acda117-e2fe-4545-86fa-244048b99c05",
   "metadata": {},
   "source": [
    "## 7. Evaluation finale"
   ]
  },
  {
   "cell_type": "markdown",
   "id": "607e65f2-08b1-491e-849e-69547dd341bf",
   "metadata": {},
   "source": [
    "Pour évaluer la réelle performance de notre modele avec une métrique populaire (pour votre patron, client, ou vos collegues) on peut utiliser le coefficient de détermination, aussi connu sous le nom  $ R^2 $\n",
    ". Il nous vient de la méthode des moindres carrés. Plus le résultat est proche de 1, meilleur est votre modele"
   ]
  },
  {
   "cell_type": "code",
   "execution_count": 98,
   "id": "cbac03f8-1672-4d4d-b332-9120bce8c4b5",
   "metadata": {},
   "outputs": [],
   "source": [
    "def coef_determination(y, pred):\n",
    "    u = ((y - pred)**2).sum()\n",
    "    v = ((y - y.mean())**2).sum()\n",
    "    return 1 - u/v"
   ]
  },
  {
   "cell_type": "code",
   "execution_count": 99,
   "id": "16581ee3-52a2-4366-bb23-5ddc46476b4c",
   "metadata": {},
   "outputs": [
    {
     "data": {
      "text/plain": [
       "0.9417294706504984"
      ]
     },
     "execution_count": 99,
     "metadata": {},
     "output_type": "execute_result"
    }
   ],
   "source": [
    "coef_determination(y, predictions)"
   ]
  },
  {
   "cell_type": "code",
   "execution_count": null,
   "id": "110f81dd-5948-44e8-ae98-18fe91ba7628",
   "metadata": {},
   "outputs": [],
   "source": []
  }
 ],
 "metadata": {
  "kernelspec": {
   "display_name": "Python 3 (ipykernel)",
   "language": "python",
   "name": "python3"
  },
  "language_info": {
   "codemirror_mode": {
    "name": "ipython",
    "version": 3
   },
   "file_extension": ".py",
   "mimetype": "text/x-python",
   "name": "python",
   "nbconvert_exporter": "python",
   "pygments_lexer": "ipython3",
   "version": "3.8.18"
  }
 },
 "nbformat": 4,
 "nbformat_minor": 5
}
